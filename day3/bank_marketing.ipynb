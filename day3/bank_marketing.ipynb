{
  "metadata": {
    "kernelspec": {
      "display_name": "Python 3",
      "language": "python",
      "name": "python3"
    },
    "language_info": {
      "codemirror_mode": {
        "name": "ipython",
        "version": 3
      },
      "file_extension": ".py",
      "mimetype": "text/x-python",
      "name": "python",
      "nbconvert_exporter": "python",
      "pygments_lexer": "ipython3",
      "version": "3.7.4"
    },
    "colab": {
      "name": "bank-marketing.ipynb",
      "provenance": []
    }
  },
  "nbformat_minor": 0,
  "nbformat": 4,
  "cells": [
    {
      "cell_type": "markdown",
      "source": [
        "## Logistic Regression VS Random Forest Comparision\n",
        "##### Note : Acurracy and F1 score can be increased with use of Boosting Algorithms.\n",
        "##### The Notebook Visualize the data from Bank Marketing and predict if the customer will respond positively to the campaign or not, For the target variable is “Deposit”."
      ],
      "metadata": {
        "id": "I6YMvdeetA2j"
      }
    },
    {
      "cell_type": "code",
      "source": [
        "import pandas as pd\n",
        "import seaborn as sns\n",
        "import matplotlib.pyplot as plt\n",
        "import warnings\n",
        "import os\n",
        "warnings.filterwarnings(\"ignore\")"
      ],
      "metadata": {
        "trusted": true,
        "id": "9kuENLpttA2m"
      },
      "execution_count": null,
      "outputs": []
    },
    {
      "cell_type": "code",
      "source": [
        "data = pd.read_csv('/kaggle/input/bank-marketing-dataset/bank.csv')"
      ],
      "metadata": {
        "trusted": true,
        "id": "JSjH_iK5tA2n"
      },
      "execution_count": null,
      "outputs": []
    },
    {
      "cell_type": "code",
      "source": [
        "data"
      ],
      "metadata": {
        "trusted": true,
        "id": "RrLmGCTwtA2o"
      },
      "execution_count": null,
      "outputs": []
    },
    {
      "cell_type": "code",
      "source": [
        "data.columns"
      ],
      "metadata": {
        "trusted": true,
        "id": "lifBrisetA2o"
      },
      "execution_count": null,
      "outputs": []
    },
    {
      "cell_type": "code",
      "source": [
        "data.deposit.value_counts()"
      ],
      "metadata": {
        "trusted": true,
        "id": "l46upJSItA2p"
      },
      "execution_count": null,
      "outputs": []
    },
    {
      "cell_type": "code",
      "source": [
        "sns.heatmap(data.isnull())"
      ],
      "metadata": {
        "trusted": true,
        "id": "R419R2QNtA2p"
      },
      "execution_count": null,
      "outputs": []
    },
    {
      "cell_type": "markdown",
      "source": [
        "#### NO null values"
      ],
      "metadata": {
        "id": "amX9jyXutA2p"
      }
    },
    {
      "cell_type": "markdown",
      "source": [
        "###### 1  -Describe the pdays column, make note of the mean, median and minimum values. Anything fishy in the values?"
      ],
      "metadata": {
        "id": "0PValVL3tA2q"
      }
    },
    {
      "cell_type": "code",
      "source": [
        "data.describe()"
      ],
      "metadata": {
        "trusted": true,
        "id": "YaPgCTxvtA2q"
      },
      "execution_count": null,
      "outputs": []
    },
    {
      "cell_type": "code",
      "source": [
        "sns.violinplot(data['pdays'])"
      ],
      "metadata": {
        "trusted": true,
        "id": "-ne1MY2ntA2q"
      },
      "execution_count": null,
      "outputs": []
    },
    {
      "cell_type": "code",
      "source": [
        "print('median',data.pdays.median())\n",
        "print('mean:',data.pdays.mean())\n",
        "print('mode:',data.pdays.mode())"
      ],
      "metadata": {
        "trusted": true,
        "id": "UG5xStuftA2r"
      },
      "execution_count": null,
      "outputs": []
    },
    {
      "cell_type": "markdown",
      "source": [
        "#### 2 -\tDescribe the pdays column again, this time limiting yourself to the relevant values of pdays. How different are the mean and the median values?"
      ],
      "metadata": {
        "id": "NAzgWb0QtA2r"
      }
    },
    {
      "cell_type": "code",
      "source": [
        "data.pdays.value_counts()"
      ],
      "metadata": {
        "trusted": true,
        "id": "CWAicwG4tA2r"
      },
      "execution_count": null,
      "outputs": []
    },
    {
      "cell_type": "code",
      "source": [
        "dataWOP = data[data.pdays != -1]"
      ],
      "metadata": {
        "trusted": true,
        "id": "zgz8l6WntA2r"
      },
      "execution_count": null,
      "outputs": []
    },
    {
      "cell_type": "code",
      "source": [
        "sns.violinplot(dataWOP.pdays)"
      ],
      "metadata": {
        "trusted": true,
        "id": "-RvhmC0qtA2r"
      },
      "execution_count": null,
      "outputs": []
    },
    {
      "cell_type": "code",
      "source": [
        "print('median',dataWOP.pdays.median())\n",
        "print('mean:',dataWOP.pdays.mean())\n",
        "print('mode:',dataWOP.pdays.mode())"
      ],
      "metadata": {
        "trusted": true,
        "id": "ik-U8o5GtA2s"
      },
      "execution_count": null,
      "outputs": []
    },
    {
      "cell_type": "markdown",
      "source": [
        "##### As there are no values for customers who were not approached ( -1). The mean median and mode have changed significantly."
      ],
      "metadata": {
        "id": "DMDhRVpGtA2s"
      }
    },
    {
      "cell_type": "code",
      "source": [
        ""
      ],
      "metadata": {
        "trusted": true,
        "id": "W354UuiPtA2s"
      },
      "execution_count": null,
      "outputs": []
    },
    {
      "cell_type": "markdown",
      "source": [
        "###### 3 -\tPlot a horizontal bar graph with the median values of balance for each education level value. Which group has the highest median?"
      ],
      "metadata": {
        "id": "mBnwD-z8tA2s"
      }
    },
    {
      "cell_type": "code",
      "source": [
        "data.balance.describe()"
      ],
      "metadata": {
        "trusted": true,
        "id": "9d1LKQ8HtA2s"
      },
      "execution_count": null,
      "outputs": []
    },
    {
      "cell_type": "code",
      "source": [
        "data.columns"
      ],
      "metadata": {
        "trusted": true,
        "id": "f1yW8SdYtA2t"
      },
      "execution_count": null,
      "outputs": []
    },
    {
      "cell_type": "code",
      "source": [
        "data.education.value_counts()"
      ],
      "metadata": {
        "trusted": true,
        "id": "4c_H72sgtA2t"
      },
      "execution_count": null,
      "outputs": []
    },
    {
      "cell_type": "code",
      "source": [
        "sns.barplot(data.balance,data.education)"
      ],
      "metadata": {
        "trusted": true,
        "id": "Iq5y0jWqtA2t"
      },
      "execution_count": null,
      "outputs": []
    },
    {
      "cell_type": "markdown",
      "source": [
        "######  4 - Make a box plot for pdays. Do you see any outliers?"
      ],
      "metadata": {
        "id": "7wgTyDdDtA2t"
      }
    },
    {
      "cell_type": "code",
      "source": [
        "sns.boxplot(data.pdays)\n",
        "print('outliers with -1')"
      ],
      "metadata": {
        "trusted": true,
        "id": "kvdTH22LtA2t"
      },
      "execution_count": null,
      "outputs": []
    },
    {
      "cell_type": "code",
      "source": [
        "sns.boxplot(dataWOP.pdays)\n",
        "print('outliers without -1')"
      ],
      "metadata": {
        "trusted": true,
        "id": "wOS4ImiEtA2t"
      },
      "execution_count": null,
      "outputs": []
    },
    {
      "cell_type": "markdown",
      "source": [
        "#### Yes we can seee there are outliers in pdays"
      ],
      "metadata": {
        "id": "vwFaewCftA2u"
      }
    },
    {
      "cell_type": "markdown",
      "source": [
        "### EDA"
      ],
      "metadata": {
        "id": "aIEk4--UtA2u"
      }
    },
    {
      "cell_type": "code",
      "source": [
        "plt.figure(figsize=(15,15))\n",
        "sns.heatmap(data.corr(),square=True,annot=True,cmap= 'twilight_shifted')"
      ],
      "metadata": {
        "trusted": true,
        "id": "ZzvfULwwtA2u"
      },
      "execution_count": null,
      "outputs": []
    },
    {
      "cell_type": "code",
      "source": [
        "data.info()"
      ],
      "metadata": {
        "trusted": true,
        "id": "p5R9coJFtA2u"
      },
      "execution_count": null,
      "outputs": []
    },
    {
      "cell_type": "code",
      "source": [
        "data.replace({'deposit': {\"yes\": 1,'no':0}},inplace=True)"
      ],
      "metadata": {
        "trusted": true,
        "id": "AaMm2pLFtA2u"
      },
      "execution_count": null,
      "outputs": []
    },
    {
      "cell_type": "code",
      "source": [
        "### identigyind categorical and numerical columns\n",
        "cols = data.columns\n",
        "num_cols= data._get_numeric_data().columns\n",
        "cat_cols = list(set(cols) - set(num_cols))"
      ],
      "metadata": {
        "trusted": true,
        "id": "aJ-bA6qftA2u"
      },
      "execution_count": null,
      "outputs": []
    },
    {
      "cell_type": "markdown",
      "source": [
        "### Visualizing Categorical Features with Deposit"
      ],
      "metadata": {
        "id": "3TR-V6YdtA2v"
      }
    },
    {
      "cell_type": "code",
      "source": [
        "for i in data[cat_cols]:\n",
        "    sns.barplot(data.deposit,data[i])\n",
        "    plt.show()"
      ],
      "metadata": {
        "trusted": true,
        "id": "8KfziD2OtA2v"
      },
      "execution_count": null,
      "outputs": []
    },
    {
      "cell_type": "markdown",
      "source": [
        "###  Visualizing Numerical Features with Deposit"
      ],
      "metadata": {
        "id": "23REJ7iItA2v"
      }
    },
    {
      "cell_type": "code",
      "source": [
        "for i in data[num_cols]:\n",
        "    sns.barplot(data.deposit,data[i])\n",
        "    plt.show()"
      ],
      "metadata": {
        "trusted": true,
        "id": "5xYWVEkmtA2v"
      },
      "execution_count": null,
      "outputs": []
    },
    {
      "cell_type": "code",
      "source": [
        "cols = data.columns\n",
        "num_cols= data._get_numeric_data().columns\n",
        "cat_cols = list(set(cols) - set(num_cols))"
      ],
      "metadata": {
        "trusted": true,
        "id": "AxaPTOVNtA2v"
      },
      "execution_count": null,
      "outputs": []
    },
    {
      "cell_type": "code",
      "source": [
        "data[cat_cols]"
      ],
      "metadata": {
        "trusted": true,
        "id": "4kB8WdJctA2v"
      },
      "execution_count": null,
      "outputs": []
    },
    {
      "cell_type": "code",
      "source": [
        "data[num_cols]"
      ],
      "metadata": {
        "trusted": true,
        "id": "Ofhi80BGtA2v"
      },
      "execution_count": null,
      "outputs": []
    },
    {
      "cell_type": "markdown",
      "source": [
        "## PreProcessing"
      ],
      "metadata": {
        "id": "o-9HCi0ptA2w"
      }
    },
    {
      "cell_type": "code",
      "source": [
        "from sklearn.preprocessing import LabelEncoder"
      ],
      "metadata": {
        "trusted": true,
        "id": "XN3v1jrgtA2w"
      },
      "execution_count": null,
      "outputs": []
    },
    {
      "cell_type": "code",
      "source": [
        "data1 = data[cat_cols].apply(LabelEncoder().fit_transform)"
      ],
      "metadata": {
        "trusted": true,
        "id": "Ob1Qhwi1tA2w"
      },
      "execution_count": null,
      "outputs": []
    },
    {
      "cell_type": "code",
      "source": [
        "data1"
      ],
      "metadata": {
        "trusted": true,
        "id": "XrYPJq2stA2w"
      },
      "execution_count": null,
      "outputs": []
    },
    {
      "cell_type": "code",
      "source": [
        "dataf = data1.join(data[num_cols])"
      ],
      "metadata": {
        "trusted": true,
        "id": "pQ4p38-UtA2w"
      },
      "execution_count": null,
      "outputs": []
    },
    {
      "cell_type": "code",
      "source": [
        "dataf"
      ],
      "metadata": {
        "trusted": true,
        "id": "xFYBRpLhtA2w"
      },
      "execution_count": null,
      "outputs": []
    },
    {
      "cell_type": "code",
      "source": [
        "dataf[dataf.pdays == -1]"
      ],
      "metadata": {
        "trusted": true,
        "id": "DvTNSVxatA2w"
      },
      "execution_count": null,
      "outputs": []
    },
    {
      "cell_type": "code",
      "source": [
        "dataf.pdays.value_counts()"
      ],
      "metadata": {
        "trusted": true,
        "id": "UwWriRkltA2x"
      },
      "execution_count": null,
      "outputs": []
    },
    {
      "cell_type": "markdown",
      "source": [
        "### More than 70% of pdays have -1."
      ],
      "metadata": {
        "id": "NShscvrltA2x"
      }
    },
    {
      "cell_type": "code",
      "source": [
        "#dataf.drop('pdays',axis=1)"
      ],
      "metadata": {
        "trusted": true,
        "id": "wWwn5dantA2x"
      },
      "execution_count": null,
      "outputs": []
    },
    {
      "cell_type": "markdown",
      "source": [
        "##### After analyzing the we know that Pdays dones play any important role in model so we keep it as it is.\n",
        "##### The -1 or the missing values are kept as it is as we would not be using that in modelling part"
      ],
      "metadata": {
        "id": "CR4mlzUstA2x"
      }
    },
    {
      "cell_type": "code",
      "source": [
        "plt.figure(figsize=(20,20))\n",
        "sns.heatmap(dataf.corr(),square=True,annot=True,cmap= 'Spectral')"
      ],
      "metadata": {
        "trusted": true,
        "id": "atn_EYq6tA2x"
      },
      "execution_count": null,
      "outputs": []
    },
    {
      "cell_type": "code",
      "source": [
        "dataf.corr()"
      ],
      "metadata": {
        "trusted": true,
        "id": "TnTBNbd_tA2x"
      },
      "execution_count": null,
      "outputs": []
    },
    {
      "cell_type": "markdown",
      "source": [
        "## ML Modelling"
      ],
      "metadata": {
        "id": "6Bw0AquqtA2x"
      }
    },
    {
      "cell_type": "code",
      "source": [
        "from sklearn.linear_model import LogisticRegression\n",
        "from sklearn.model_selection import train_test_split\n",
        "from sklearn.metrics import classification_report\n",
        "from sklearn.metrics import confusion_matrix\n",
        "from sklearn.metrics import f1_score\n",
        "from sklearn.model_selection import cross_val_score\n",
        "from sklearn.metrics import roc_auc_score\n",
        "import statsmodels.api as sm\n",
        "from sklearn.metrics import accuracy_score"
      ],
      "metadata": {
        "trusted": true,
        "id": "clZoWhHctA2x"
      },
      "execution_count": null,
      "outputs": []
    },
    {
      "cell_type": "markdown",
      "source": [
        "### All Single feature with Logistic Regression"
      ],
      "metadata": {
        "id": "epnnGfJYtA2y"
      }
    },
    {
      "cell_type": "code",
      "source": [
        "for i in dataf.columns:\n",
        "    X = dataf[[i]]\n",
        "    y = dataf['deposit']\n",
        "    X_train,X_test,y_train,y_test = train_test_split(X,y,test_size = 0.3,random_state=101)\n",
        "    lr = LogisticRegression()\n",
        "    lr.fit(X_train,y_train)\n",
        "    y_pred = lr.predict(X_test)\n",
        "    print(\"F1 Score for\", i , f1_score(y_pred,y_test))"
      ],
      "metadata": {
        "trusted": true,
        "id": "8o0x_beftA2y"
      },
      "execution_count": null,
      "outputs": []
    },
    {
      "cell_type": "markdown",
      "source": [
        "## All Features"
      ],
      "metadata": {
        "id": "mlNN7gAvtA2y"
      }
    },
    {
      "cell_type": "code",
      "source": [
        "X = dataf.drop('deposit',axis=1)\n",
        "y = dataf['deposit']"
      ],
      "metadata": {
        "trusted": true,
        "id": "WtHMpyzVtA2y"
      },
      "execution_count": null,
      "outputs": []
    },
    {
      "cell_type": "code",
      "source": [
        "X_train,X_test,y_train,y_test = train_test_split(X,y,test_size = 0.3,random_state=101)"
      ],
      "metadata": {
        "trusted": true,
        "id": "LSY3jmBttA2y"
      },
      "execution_count": null,
      "outputs": []
    },
    {
      "cell_type": "code",
      "source": [
        "lr = LogisticRegression(random_state=101)\n",
        "lr.fit(X_train,y_train)\n",
        "y_pred = lr.predict(X_test)"
      ],
      "metadata": {
        "trusted": true,
        "id": "r2MtEjOQtA2y"
      },
      "execution_count": null,
      "outputs": []
    },
    {
      "cell_type": "code",
      "source": [
        "print('Report:\\n',classification_report(y_test, y_pred))\n",
        "print(\"F1 Score:\",f1_score(y_pred,y_test))\n",
        "print('confusion Matrix:\\n',confusion_matrix(y_pred,y_test))\n",
        "print('cross validation:',cross_val_score(lr, X, y, cv=5))"
      ],
      "metadata": {
        "trusted": true,
        "id": "W9DTQuiOtA2z"
      },
      "execution_count": null,
      "outputs": []
    },
    {
      "cell_type": "code",
      "source": [
        "model = sm.OLS(y, X)\n",
        "results = model.fit()\n",
        "start = \"\\033[1m\" ### for bold text\n",
        "print(start)\n",
        "print(results.summary())"
      ],
      "metadata": {
        "trusted": true,
        "id": "TFIi15mEtA2z"
      },
      "execution_count": null,
      "outputs": []
    },
    {
      "cell_type": "markdown",
      "source": [
        "## Using RFE"
      ],
      "metadata": {
        "id": "VwltZKwHtA2z"
      }
    },
    {
      "cell_type": "code",
      "source": [
        "### Using Rfe\n",
        "from sklearn.feature_selection import RFE\n",
        "rfe = RFE(lr, 15)\n",
        "rfe.fit(X_train,y_train)"
      ],
      "metadata": {
        "trusted": true,
        "id": "vCeBz39KtA2z"
      },
      "execution_count": null,
      "outputs": []
    },
    {
      "cell_type": "code",
      "source": [
        "print(X_train.columns[rfe.support_])\n",
        "cols = X_train.columns[rfe.support_]\n",
        "lr.fit(X_train[cols],y_train)\n",
        "y_pred2 = lr.predict(X_test[cols])"
      ],
      "metadata": {
        "trusted": true,
        "id": "jt3a0PxXtA2z"
      },
      "execution_count": null,
      "outputs": []
    },
    {
      "cell_type": "code",
      "source": [
        "def logReggResult():\n",
        "    print('Report:\\n',classification_report(y_test, y_pred2))\n",
        "    print(\"F1 Score:\",f1_score(y_pred2,y_test))\n",
        "    print('AUC score:',roc_auc_score(y_test,y_pred2))\n",
        "    print('confusion Matrix:\\n',confusion_matrix(y_pred2,y_test))\n",
        "    print('kfold cross validation:\\n',cross_val_score(lr, X, y, cv=5))\n",
        "    print(\"Acurracy :::>\",accuracy_score(y_pred2,y_test))"
      ],
      "metadata": {
        "trusted": true,
        "id": "Oi-IjT7WtA2z"
      },
      "execution_count": null,
      "outputs": []
    },
    {
      "cell_type": "code",
      "source": [
        "logReggResult()"
      ],
      "metadata": {
        "trusted": true,
        "id": "nIWSgrU4tA2z"
      },
      "execution_count": null,
      "outputs": []
    },
    {
      "cell_type": "code",
      "source": [
        "## Feature Importance\n",
        "from sklearn.feature_selection import SelectFromModel\n",
        "smf = SelectFromModel(lr)\n",
        "smf.fit(X_train,y_train)\n",
        "features = smf.get_support()\n",
        "feature_name = X_train.columns[features]\n",
        "feature_name"
      ],
      "metadata": {
        "trusted": true,
        "id": "0SxnWL6EtA20"
      },
      "execution_count": null,
      "outputs": []
    },
    {
      "cell_type": "code",
      "source": [
        "importances=feature_name\n",
        "feature_importances=pd.Series(importances).sort_values(ascending=False)\n",
        "sns.barplot(x=feature_importances[0:10], y=feature_importances.index[0:10])\n",
        "plt.title('Feature Importance',size=20)\n",
        "plt.ylabel(\"Features\")\n",
        "plt.show()"
      ],
      "metadata": {
        "trusted": true,
        "id": "gH4xUbqstA20"
      },
      "execution_count": null,
      "outputs": []
    },
    {
      "cell_type": "markdown",
      "source": [
        "## Random Forest Classifier"
      ],
      "metadata": {
        "id": "DpuAxyL8tA20"
      }
    },
    {
      "cell_type": "code",
      "source": [
        "from sklearn.ensemble import RandomForestClassifier"
      ],
      "metadata": {
        "trusted": true,
        "id": "vJ9J0sNatA20"
      },
      "execution_count": null,
      "outputs": []
    },
    {
      "cell_type": "code",
      "source": [
        "X = dataf.drop('deposit',axis=1)\n",
        "y = dataf['deposit']\n",
        "X_train,X_test,y_train,y_test = train_test_split(X,y,test_size = 0.3,random_state=101)"
      ],
      "metadata": {
        "trusted": true,
        "id": "6q1tiehXtA20"
      },
      "execution_count": null,
      "outputs": []
    },
    {
      "cell_type": "code",
      "source": [
        "rfc = RandomForestClassifier(n_estimators=50,max_depth=5, random_state=101,max_leaf_nodes=50)\n",
        "rfc.fit(X_train,y_train)"
      ],
      "metadata": {
        "trusted": true,
        "id": "kC3ue5x2tA20"
      },
      "execution_count": null,
      "outputs": []
    },
    {
      "cell_type": "code",
      "source": [
        "y_pred1 = rfc.predict(X_test)"
      ],
      "metadata": {
        "trusted": true,
        "id": "W-9Ns3pwtA20"
      },
      "execution_count": null,
      "outputs": []
    },
    {
      "cell_type": "code",
      "source": [
        ""
      ],
      "metadata": {
        "trusted": true,
        "id": "i_EshmEwtA21"
      },
      "execution_count": null,
      "outputs": []
    },
    {
      "cell_type": "code",
      "source": [
        "from sklearn.tree import export_graphviz\n",
        "estimator = rfc.estimators_[5]\n",
        "# Export as dot file\n",
        "export_graphviz(estimator, \n",
        "                out_file='tree1.dot', \n",
        "                feature_names = X_train.columns,\n",
        "                class_names = 'deposit',\n",
        "                rounded = True, proportion = False, \n",
        "                precision = 2, filled = True)"
      ],
      "metadata": {
        "trusted": true,
        "id": "v0xkVbGItA21"
      },
      "execution_count": null,
      "outputs": []
    },
    {
      "cell_type": "code",
      "source": [
        "os.system('dot -Tpng tree1.dot -o tree1.png')"
      ],
      "metadata": {
        "trusted": true,
        "id": "44hlsHlHtA21"
      },
      "execution_count": null,
      "outputs": []
    },
    {
      "cell_type": "code",
      "source": [
        "from IPython.display import Image\n",
        "Image(filename = 'tree1.png')"
      ],
      "metadata": {
        "trusted": true,
        "id": "KIAwSM5CtA21"
      },
      "execution_count": null,
      "outputs": []
    },
    {
      "cell_type": "code",
      "source": [
        "def RF():\n",
        "    print('Report:\\n',classification_report(y_test, y_pred1))\n",
        "    print(\"F1 Score:\",f1_score(y_pred1,y_test))\n",
        "    print('confusion Matrix:\\n',confusion_matrix(y_pred1,y_test))\n",
        "    print('cross validation:',cross_val_score(rfc, X, y, cv=5))\n",
        "    print('AUC score:',roc_auc_score(y_test,y_pred))\n",
        "    print(\"Acurracy :::>\",accuracy_score(y_pred,y_test))"
      ],
      "metadata": {
        "trusted": true,
        "id": "-APfQOtFtA21"
      },
      "execution_count": null,
      "outputs": []
    },
    {
      "cell_type": "code",
      "source": [
        "RF()"
      ],
      "metadata": {
        "trusted": true,
        "id": "th9EBBaPtA21"
      },
      "execution_count": null,
      "outputs": []
    },
    {
      "cell_type": "code",
      "source": [
        "importances=rfc.feature_importances_\n",
        "feature_importances=pd.Series(importances, index=X_train.columns).sort_values(ascending=False)\n",
        "sns.barplot(x=feature_importances[0:10], y=feature_importances.index[0:10])\n",
        "plt.title('Feature Importance',size=20)\n",
        "plt.ylabel(\"Features\")\n",
        "plt.show()"
      ],
      "metadata": {
        "trusted": true,
        "id": "l5m54SsbtA21"
      },
      "execution_count": null,
      "outputs": []
    },
    {
      "cell_type": "markdown",
      "source": [
        "# Comparision "
      ],
      "metadata": {
        "id": "QDjBRAd6tA21"
      }
    },
    {
      "cell_type": "markdown",
      "source": [
        "### We choose the F1 Score and Confustion Matrix for the Final comparision of both Models because the Target Variable is imbalanced. So, Precision and Recall can be the main factor for evaluation model and we get the harmonic mean for the same in form of F1 score."
      ],
      "metadata": {
        "id": "dpCnmXTttA22"
      }
    },
    {
      "cell_type": "code",
      "source": [
        "print (start + \"############### Random Forest Result: ###############\\n\")\n",
        "RF()\n",
        "print(start +'\\n\\n############# Logistic Regression Result: ############\\n')\n",
        "logReggResult()"
      ],
      "metadata": {
        "trusted": true,
        "id": "gQe_yeV1tA22"
      },
      "execution_count": null,
      "outputs": []
    },
    {
      "cell_type": "markdown",
      "source": [
        "### We see that the Random Forest has Perfomed good in comparision to Logistic Regression."
      ],
      "metadata": {
        "id": "SZNBURtYtA22"
      }
    },
    {
      "cell_type": "markdown",
      "source": [
        "### Random Forest has Better F1 score,  AUC,  Confusion Matrix, kfold Cross val and accuracy in compare to Logistic Regression."
      ],
      "metadata": {
        "id": "cZqwqAjdtA22"
      }
    },
    {
      "cell_type": "markdown",
      "source": [
        "### The Main Features for the both Models/ Algorithm Differs as Random Forest and Logistic Regression Works on different Principal"
      ],
      "metadata": {
        "id": "SXwBw-lgtA22"
      }
    },
    {
      "cell_type": "markdown",
      "source": [
        "### Please do Upvote if you like kernal."
      ],
      "metadata": {
        "id": "9qyZ8xC8tA22"
      }
    }
  ]
}