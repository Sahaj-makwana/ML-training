{
 "cells": [
  {
   "cell_type": "code",
   "execution_count": 1,
   "id": "334ffceb",
   "metadata": {
    "_cell_guid": "b1076dfc-b9ad-4769-8c92-a6c4dae69d19",
    "_uuid": "8f2839f25d086af736a60e9eeb907d3b93b6e0e5",
    "execution": {
     "iopub.execute_input": "2022-06-22T07:19:19.771584Z",
     "iopub.status.busy": "2022-06-22T07:19:19.770621Z",
     "iopub.status.idle": "2022-06-22T07:19:19.790849Z",
     "shell.execute_reply": "2022-06-22T07:19:19.790087Z"
    },
    "papermill": {
     "duration": 0.033346,
     "end_time": "2022-06-22T07:19:19.796843",
     "exception": false,
     "start_time": "2022-06-22T07:19:19.763497",
     "status": "completed"
    },
    "tags": []
   },
   "outputs": [
    {
     "name": "stdout",
     "output_type": "stream",
     "text": [
      "/kaggle/input/heights-and-weights/data.csv\n"
     ]
    }
   ],
   "source": [
    "# This Python 3 environment comes with many helpful analytics libraries installed\n",
    "# It is defined by the kaggle/python Docker image: https://github.com/kaggle/docker-python\n",
    "# For example, here's several helpful packages to load\n",
    "\n",
    "import numpy as np # linear algebra\n",
    "import pandas as pd # data processing, CSV file I/O (e.g. pd.read_csv)\n",
    "\n",
    "# Input data files are available in the read-only \"../input/\" directory\n",
    "# For example, running this (by clicking run or pressing Shift+Enter) will list all files under the input directory\n",
    "\n",
    "import os\n",
    "for dirname, _, filenames in os.walk('/kaggle/input'):\n",
    "    for filename in filenames:\n",
    "        print(os.path.join(dirname, filename))\n",
    "\n",
    "# You can write up to 20GB to the current directory (/kaggle/working/) that gets preserved as output when you create a version using \"Save & Run All\" \n",
    "# You can also write temporary files to /kaggle/temp/, but they won't be saved outside of the current session"
   ]
  },
  {
   "cell_type": "code",
   "execution_count": 2,
   "id": "0e8ff872",
   "metadata": {
    "execution": {
     "iopub.execute_input": "2022-06-22T07:19:19.807783Z",
     "iopub.status.busy": "2022-06-22T07:19:19.806669Z",
     "iopub.status.idle": "2022-06-22T07:19:19.838664Z",
     "shell.execute_reply": "2022-06-22T07:19:19.837476Z"
    },
    "papermill": {
     "duration": 0.04032,
     "end_time": "2022-06-22T07:19:19.841421",
     "exception": false,
     "start_time": "2022-06-22T07:19:19.801101",
     "status": "completed"
    },
    "tags": []
   },
   "outputs": [
    {
     "data": {
      "text/html": [
       "<div>\n",
       "<style scoped>\n",
       "    .dataframe tbody tr th:only-of-type {\n",
       "        vertical-align: middle;\n",
       "    }\n",
       "\n",
       "    .dataframe tbody tr th {\n",
       "        vertical-align: top;\n",
       "    }\n",
       "\n",
       "    .dataframe thead th {\n",
       "        text-align: right;\n",
       "    }\n",
       "</style>\n",
       "<table border=\"1\" class=\"dataframe\">\n",
       "  <thead>\n",
       "    <tr style=\"text-align: right;\">\n",
       "      <th></th>\n",
       "      <th>Height</th>\n",
       "      <th>Weight</th>\n",
       "    </tr>\n",
       "  </thead>\n",
       "  <tbody>\n",
       "    <tr>\n",
       "      <th>0</th>\n",
       "      <td>1.47</td>\n",
       "      <td>52.21</td>\n",
       "    </tr>\n",
       "    <tr>\n",
       "      <th>1</th>\n",
       "      <td>1.50</td>\n",
       "      <td>53.12</td>\n",
       "    </tr>\n",
       "    <tr>\n",
       "      <th>2</th>\n",
       "      <td>1.52</td>\n",
       "      <td>54.48</td>\n",
       "    </tr>\n",
       "    <tr>\n",
       "      <th>3</th>\n",
       "      <td>1.55</td>\n",
       "      <td>55.84</td>\n",
       "    </tr>\n",
       "    <tr>\n",
       "      <th>4</th>\n",
       "      <td>1.57</td>\n",
       "      <td>57.20</td>\n",
       "    </tr>\n",
       "  </tbody>\n",
       "</table>\n",
       "</div>"
      ],
      "text/plain": [
       "   Height  Weight\n",
       "0    1.47   52.21\n",
       "1    1.50   53.12\n",
       "2    1.52   54.48\n",
       "3    1.55   55.84\n",
       "4    1.57   57.20"
      ]
     },
     "execution_count": 2,
     "metadata": {},
     "output_type": "execute_result"
    }
   ],
   "source": [
    "data=pd.read_csv('/kaggle/input/heights-and-weights/data.csv')\n",
    "data.head()"
   ]
  },
  {
   "cell_type": "code",
   "execution_count": 3,
   "id": "8c86d5e1",
   "metadata": {
    "execution": {
     "iopub.execute_input": "2022-06-22T07:19:19.851381Z",
     "iopub.status.busy": "2022-06-22T07:19:19.850942Z",
     "iopub.status.idle": "2022-06-22T07:19:19.882955Z",
     "shell.execute_reply": "2022-06-22T07:19:19.881786Z"
    },
    "papermill": {
     "duration": 0.039584,
     "end_time": "2022-06-22T07:19:19.885233",
     "exception": false,
     "start_time": "2022-06-22T07:19:19.845649",
     "status": "completed"
    },
    "tags": []
   },
   "outputs": [
    {
     "data": {
      "text/html": [
       "<div>\n",
       "<style scoped>\n",
       "    .dataframe tbody tr th:only-of-type {\n",
       "        vertical-align: middle;\n",
       "    }\n",
       "\n",
       "    .dataframe tbody tr th {\n",
       "        vertical-align: top;\n",
       "    }\n",
       "\n",
       "    .dataframe thead th {\n",
       "        text-align: right;\n",
       "    }\n",
       "</style>\n",
       "<table border=\"1\" class=\"dataframe\">\n",
       "  <thead>\n",
       "    <tr style=\"text-align: right;\">\n",
       "      <th></th>\n",
       "      <th>Height</th>\n",
       "      <th>Weight</th>\n",
       "    </tr>\n",
       "  </thead>\n",
       "  <tbody>\n",
       "    <tr>\n",
       "      <th>count</th>\n",
       "      <td>15.000000</td>\n",
       "      <td>15.000000</td>\n",
       "    </tr>\n",
       "    <tr>\n",
       "      <th>mean</th>\n",
       "      <td>1.650667</td>\n",
       "      <td>62.078000</td>\n",
       "    </tr>\n",
       "    <tr>\n",
       "      <th>std</th>\n",
       "      <td>0.114235</td>\n",
       "      <td>7.037515</td>\n",
       "    </tr>\n",
       "    <tr>\n",
       "      <th>min</th>\n",
       "      <td>1.470000</td>\n",
       "      <td>52.210000</td>\n",
       "    </tr>\n",
       "    <tr>\n",
       "      <th>25%</th>\n",
       "      <td>1.560000</td>\n",
       "      <td>56.520000</td>\n",
       "    </tr>\n",
       "    <tr>\n",
       "      <th>50%</th>\n",
       "      <td>1.650000</td>\n",
       "      <td>61.290000</td>\n",
       "    </tr>\n",
       "    <tr>\n",
       "      <th>75%</th>\n",
       "      <td>1.740000</td>\n",
       "      <td>67.190000</td>\n",
       "    </tr>\n",
       "    <tr>\n",
       "      <th>max</th>\n",
       "      <td>1.830000</td>\n",
       "      <td>74.460000</td>\n",
       "    </tr>\n",
       "  </tbody>\n",
       "</table>\n",
       "</div>"
      ],
      "text/plain": [
       "          Height     Weight\n",
       "count  15.000000  15.000000\n",
       "mean    1.650667  62.078000\n",
       "std     0.114235   7.037515\n",
       "min     1.470000  52.210000\n",
       "25%     1.560000  56.520000\n",
       "50%     1.650000  61.290000\n",
       "75%     1.740000  67.190000\n",
       "max     1.830000  74.460000"
      ]
     },
     "execution_count": 3,
     "metadata": {},
     "output_type": "execute_result"
    }
   ],
   "source": [
    "data.describe()"
   ]
  },
  {
   "cell_type": "code",
   "execution_count": 4,
   "id": "f302ccaa",
   "metadata": {
    "execution": {
     "iopub.execute_input": "2022-06-22T07:19:19.896405Z",
     "iopub.status.busy": "2022-06-22T07:19:19.895818Z",
     "iopub.status.idle": "2022-06-22T07:19:19.901296Z",
     "shell.execute_reply": "2022-06-22T07:19:19.900460Z"
    },
    "papermill": {
     "duration": 0.013477,
     "end_time": "2022-06-22T07:19:19.903180",
     "exception": false,
     "start_time": "2022-06-22T07:19:19.889703",
     "status": "completed"
    },
    "tags": []
   },
   "outputs": [],
   "source": [
    "y = data['Weight']"
   ]
  },
  {
   "cell_type": "code",
   "execution_count": 5,
   "id": "37fcbe99",
   "metadata": {
    "execution": {
     "iopub.execute_input": "2022-06-22T07:19:19.913896Z",
     "iopub.status.busy": "2022-06-22T07:19:19.913216Z",
     "iopub.status.idle": "2022-06-22T07:19:19.920538Z",
     "shell.execute_reply": "2022-06-22T07:19:19.919553Z"
    },
    "papermill": {
     "duration": 0.015034,
     "end_time": "2022-06-22T07:19:19.922663",
     "exception": false,
     "start_time": "2022-06-22T07:19:19.907629",
     "status": "completed"
    },
    "tags": []
   },
   "outputs": [
    {
     "data": {
      "text/plain": [
       "array([[1.47],\n",
       "       [1.5 ],\n",
       "       [1.52],\n",
       "       [1.55],\n",
       "       [1.57],\n",
       "       [1.6 ],\n",
       "       [1.63],\n",
       "       [1.65],\n",
       "       [1.68],\n",
       "       [1.7 ],\n",
       "       [1.73],\n",
       "       [1.75],\n",
       "       [1.78],\n",
       "       [1.8 ],\n",
       "       [1.83]])"
      ]
     },
     "execution_count": 5,
     "metadata": {},
     "output_type": "execute_result"
    }
   ],
   "source": [
    "x = np.array(data['Height']).reshape(-1,1)\n",
    "x"
   ]
  },
  {
   "cell_type": "code",
   "execution_count": 6,
   "id": "123e9dde",
   "metadata": {
    "execution": {
     "iopub.execute_input": "2022-06-22T07:19:19.933363Z",
     "iopub.status.busy": "2022-06-22T07:19:19.932920Z",
     "iopub.status.idle": "2022-06-22T07:19:21.156463Z",
     "shell.execute_reply": "2022-06-22T07:19:21.155304Z"
    },
    "papermill": {
     "duration": 1.231984,
     "end_time": "2022-06-22T07:19:21.159150",
     "exception": false,
     "start_time": "2022-06-22T07:19:19.927166",
     "status": "completed"
    },
    "tags": []
   },
   "outputs": [],
   "source": [
    "from sklearn.model_selection import train_test_split\n",
    "X_train,X_test,y_train,y_test=train_test_split(x,y,test_size=0.2)"
   ]
  },
  {
   "cell_type": "code",
   "execution_count": 7,
   "id": "546dae62",
   "metadata": {
    "execution": {
     "iopub.execute_input": "2022-06-22T07:19:21.172120Z",
     "iopub.status.busy": "2022-06-22T07:19:21.171562Z",
     "iopub.status.idle": "2022-06-22T07:19:21.272334Z",
     "shell.execute_reply": "2022-06-22T07:19:21.271320Z"
    },
    "papermill": {
     "duration": 0.109321,
     "end_time": "2022-06-22T07:19:21.274847",
     "exception": false,
     "start_time": "2022-06-22T07:19:21.165526",
     "status": "completed"
    },
    "tags": []
   },
   "outputs": [
    {
     "name": "stdout",
     "output_type": "stream",
     "text": [
      "[61.64761469] intercept_ -39.54296905959457\n"
     ]
    }
   ],
   "source": [
    "from sklearn.linear_model import LinearRegression\n",
    "reg=LinearRegression()\n",
    "reg.fit(X_train,y_train)\n",
    "print(reg.coef_,\"intercept_\",reg.intercept_)"
   ]
  },
  {
   "cell_type": "code",
   "execution_count": 8,
   "id": "0271125b",
   "metadata": {
    "execution": {
     "iopub.execute_input": "2022-06-22T07:19:21.285365Z",
     "iopub.status.busy": "2022-06-22T07:19:21.284959Z",
     "iopub.status.idle": "2022-06-22T07:19:21.293649Z",
     "shell.execute_reply": "2022-06-22T07:19:21.292466Z"
    },
    "papermill": {
     "duration": 0.016575,
     "end_time": "2022-06-22T07:19:21.295912",
     "exception": false,
     "start_time": "2022-06-22T07:19:21.279337",
     "status": "completed"
    },
    "tags": []
   },
   "outputs": [
    {
     "data": {
      "text/plain": [
       "array([67.10740436, 60.94264289, 68.34035665])"
      ]
     },
     "execution_count": 8,
     "metadata": {},
     "output_type": "execute_result"
    }
   ],
   "source": [
    "y_predict=reg.predict(X_test)\n",
    "y_predict"
   ]
  },
  {
   "cell_type": "code",
   "execution_count": 9,
   "id": "757e3907",
   "metadata": {
    "execution": {
     "iopub.execute_input": "2022-06-22T07:19:21.306877Z",
     "iopub.status.busy": "2022-06-22T07:19:21.306466Z",
     "iopub.status.idle": "2022-06-22T07:19:21.312371Z",
     "shell.execute_reply": "2022-06-22T07:19:21.311420Z"
    },
    "papermill": {
     "duration": 0.013932,
     "end_time": "2022-06-22T07:19:21.314482",
     "exception": false,
     "start_time": "2022-06-22T07:19:21.300550",
     "status": "completed"
    },
    "tags": []
   },
   "outputs": [
    {
     "name": "stdout",
     "output_type": "stream",
     "text": [
      "Root Mean Squared Error: 0.7676403055967664\n"
     ]
    }
   ],
   "source": [
    "from sklearn import metrics\n",
    "print('Root Mean Squared Error:',np.sqrt(metrics.mean_squared_error(y_test,y_predict)))"
   ]
  },
  {
   "cell_type": "code",
   "execution_count": 10,
   "id": "7f2598e9",
   "metadata": {
    "execution": {
     "iopub.execute_input": "2022-06-22T07:19:21.325596Z",
     "iopub.status.busy": "2022-06-22T07:19:21.325183Z",
     "iopub.status.idle": "2022-06-22T07:19:21.545196Z",
     "shell.execute_reply": "2022-06-22T07:19:21.544131Z"
    },
    "papermill": {
     "duration": 0.228626,
     "end_time": "2022-06-22T07:19:21.547799",
     "exception": false,
     "start_time": "2022-06-22T07:19:21.319173",
     "status": "completed"
    },
    "tags": []
   },
   "outputs": [
    {
     "data": {
      "text/plain": [
       "[<matplotlib.lines.Line2D at 0x7f0422d5c1d0>]"
      ]
     },
     "execution_count": 10,
     "metadata": {},
     "output_type": "execute_result"
    },
    {
     "data": {
      "image/png": "[encoded data removed]",
      "text/plain": [
       "<Figure size 432x288 with 1 Axes>"
      ]
     },
     "metadata": {
      "needs_background": "light"
     },
     "output_type": "display_data"
    }
   ],
   "source": [
    "import matplotlib.pyplot as plt\n",
    "plt.scatter(X_test, y_test , color = 'b')\n",
    "plt.plot(X_test, y_predict, color = 'red')\n"
   ]
  }
 ],
 "metadata": {
  "kernelspec": {
   "display_name": "Python 3",
   "language": "python",
   "name": "python3"
  },
  "language_info": {
   "codemirror_mode": {
    "name": "ipython",
    "version": 3
   },
   "file_extension": ".py",
   "mimetype": "text/x-python",
   "name": "python",
   "nbconvert_exporter": "python",
   "pygments_lexer": "ipython3",
   "version": "3.7.12"
  },
  "papermill": {
   "default_parameters": {},
   "duration": 13.593792,
   "end_time": "2022-06-22T07:19:22.376399",
   "environment_variables": {},
   "exception": null,
   "input_path": "__notebook__.ipynb",
   "output_path": "__notebook__.ipynb",
   "parameters": {},
   "start_time": "2022-06-22T07:19:08.782607",
   "version": "2.3.4"
  }
 },
 "nbformat": 4,
 "nbformat_minor": 5
}
